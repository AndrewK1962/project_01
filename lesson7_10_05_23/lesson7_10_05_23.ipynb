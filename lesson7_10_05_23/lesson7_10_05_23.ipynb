{
  "nbformat": 4,
  "nbformat_minor": 0,
  "metadata": {
    "colab": {
      "provenance": []
    },
    "kernelspec": {
      "name": "python3",
      "display_name": "Python 3"
    },
    "language_info": {
      "name": "python"
    }
  },
  "cells": [
    {
      "cell_type": "markdown",
      "source": [
        "Lesson7_10-05-23\n"
      ],
      "metadata": {
        "id": "tWYqOkAHrHep"
      }
    },
    {
      "cell_type": "code",
      "execution_count": 4,
      "metadata": {
        "colab": {
          "base_uri": "https://localhost:8080/"
        },
        "id": "obmYv-CaA-YT",
        "outputId": "3effdc89-f494-493c-acec-35d2333b3d2c"
      },
      "outputs": [
        {
          "output_type": "stream",
          "name": "stdout",
          "text": [
            "6\n"
          ]
        }
      ],
      "source": [
        "# поиск НОД делением\n",
        "a= 42\n",
        "b= 12\n",
        "while a !=0 and b!=0:\n",
        "  if a > b:\n",
        "    a = a % b\n",
        "  else:\n",
        "    b = b % a\n",
        "print (a + b)"
      ]
    },
    {
      "cell_type": "code",
      "source": [
        "# Поиск НОД вычитанием\n",
        "a=35\n",
        "b=14\n",
        "while a != b:\n",
        "  if a > b:\n",
        "    a = a - b\n",
        "  else:\n",
        "    b = b - a\n",
        "print (a)"
      ],
      "metadata": {
        "colab": {
          "base_uri": "https://localhost:8080/"
        },
        "id": "xxZcmSsubpkR",
        "outputId": "a150b234-25c8-4c7a-a112-c60494b6e2f9"
      },
      "execution_count": 6,
      "outputs": [
        {
          "output_type": "stream",
          "name": "stdout",
          "text": [
            "7\n"
          ]
        }
      ]
    },
    {
      "cell_type": "code",
      "source": [
        "#калькулятор на логических условиях (доработать)\n",
        "from IPython.core.completer import inspect\n",
        "\n",
        "print (\"при вводе q  программа завершится\")\n",
        "while True:\n",
        "  s = input(\"Какая будет операция? ( + , - , * , / , % ): \")\n",
        "  if s == \"q\":\n",
        "    break\n",
        "  if s in ('+','-','*','/','%'):\n",
        "    if s == '%':\n",
        "      print (\"x - число, от которого берем %\")\n",
        "      print (\"y - процент, который берем\")\n",
        "    x = float(input(\"x = \"))\n",
        "    y = float(input(\"y = \"))\n",
        "    if s == \"+\":\n",
        "      print(\"%.2f\" % (x+y))\n",
        "    elif s == \"-\":\n",
        "      print(\"%.2f\" % (x-y))\n",
        "    elif s == \"*\":\n",
        "      print(\"%.2f\" % (x*y))\n",
        "    elif s == \"%\":\n",
        "      print(\"%.2f\" % (x / 100 * y))\n",
        "    elif s == \"/\":\n",
        "      if y != 0:\n",
        "        print(\"%.2f\" % (x/y))\n",
        "      else:\n",
        "        print (\"Делить на 0 нельзя\")\n",
        "  else:\n",
        "    print (\"Введена неверная операция\")"
      ],
      "metadata": {
        "colab": {
          "base_uri": "https://localhost:8080/"
        },
        "id": "uGE46iEkcN2b",
        "outputId": "3f249259-37e7-46ea-a52c-422467306409"
      },
      "execution_count": 11,
      "outputs": [
        {
          "name": "stdout",
          "output_type": "stream",
          "text": [
            "при вводе q  программа завершится\n",
            "Какая будет операция? ( + , - , * , / , % ): %\n",
            "x - число, от которого берем %\n",
            "y - процент, который берем\n",
            "x = 20\n",
            "y = 10\n",
            "2.00\n",
            "Какая будет операция? ( + , - , * , / , % ): *\n",
            "x = 2\n",
            "y = -2\n",
            "-4.00\n",
            "Какая будет операция? ( + , - , * , / , % ): /\n",
            "x = 124\n",
            "y = 321\n",
            "0.39\n",
            "Какая будет операция? ( + , - , * , / , % ): q\n"
          ]
        }
      ]
    },
    {
      "cell_type": "code",
      "source": [
        "# сортировка выбором\n",
        "from random import randint\n",
        "\n",
        "def create_list():\n",
        "  n=10\n",
        "  arr=[]\n",
        "  for i in range (n):\n",
        "    arr.append(randint(1,99))\n",
        "  return arr\n",
        "data= create_list()\n",
        "print()\n",
        "\n",
        "def choice_method(data):\n",
        "  i = 0\n",
        "  while i < len(data) - 1:\n",
        "    m = i\n",
        "    j = i + 1\n",
        "    while j < len(data):\n",
        "      if data[j] < data [m]:\n",
        "        m = j\n",
        "      j += 1\n",
        "    data[i],data[m] = data[m],data[i]\n",
        "    i += 1\n",
        "  return data\n",
        "\n",
        "\n",
        "choice_method(data)"
      ],
      "metadata": {
        "colab": {
          "base_uri": "https://localhost:8080/"
        },
        "id": "-XlYgle8iZot",
        "outputId": "2f4400ac-1d86-4460-b660-df4fd8460fcd"
      },
      "execution_count": 16,
      "outputs": [
        {
          "output_type": "stream",
          "name": "stdout",
          "text": [
            "\n"
          ]
        },
        {
          "output_type": "execute_result",
          "data": {
            "text/plain": [
              "[11, 33, 38, 45, 47, 56, 61, 77, 82, 93]"
            ]
          },
          "metadata": {},
          "execution_count": 16
        }
      ]
    },
    {
      "cell_type": "code",
      "source": [
        "# сортировка вставкой\n",
        "from random import randint\n",
        "from datetime import datetime\n",
        "\n",
        "def create_list():\n",
        "  n = 10\n",
        "  arr = []\n",
        "  for i in range (n):\n",
        "    arr.append(randint(1,99))\n",
        "  return arr\n",
        "\n",
        "data = create_list()\n",
        "print (\"Исходная последовательность\")\n",
        "print (data)\n",
        "\n",
        "# с циклом for\n",
        "def bubble_for(data):\n",
        "  start_time = datetime.now()\n",
        "  n = len(data)\n",
        "  for i in range(n-1):\n",
        "    for j in range (n-i-1):\n",
        "      if data[j] > data[j+1]:\n",
        "        data[j],data[j+1] = data[j+1],data[j]\n",
        "  end_time = datetime.now()\n",
        "  print (\"Продолжительность сортировки циклом for : {}\".format(end_time-start_time))\n",
        "  return data\n",
        "\n",
        "print (\"Результат сортировки\",\"\\n\", bubble_for(data))\n",
        "\n",
        "# c циклом while\n",
        "def bubble_while(data):\n",
        "  start_time = datetime.now()\n",
        "  n = len(data)\n",
        "  i = 0\n",
        "  while i < n -1:\n",
        "    j = 0\n",
        "    while j < n - 1 - i:\n",
        "      if data[j] > data[j+1]:\n",
        "        data[j],data[j+1] = data[j+1],data[j]\n",
        "      j += 1\n",
        "    i += 1\n",
        "  end_time = datetime.now()\n",
        "  print (\"Продолжительность сортировки циклом while : {}\".format(end_time-start_time))\n",
        "  return data\n",
        "\n",
        "print (\"Результат сортировки\",\"\\n\", bubble_while(data))  \n",
        "\n",
        "# метод перебора\n",
        "def choice_method(data):\n",
        "  start_time = datetime.now()\n",
        "  i = 0\n",
        "  while i < len(data) - 1:\n",
        "    m = i\n",
        "    j = i + 1\n",
        "    while j < len(data):\n",
        "      if data[j] < data [m]:\n",
        "        m = j\n",
        "      j += 1\n",
        "    data[i],data[m] = data[m],data[i]\n",
        "    i += 1\n",
        "  end_time = datetime.now()\n",
        "  print (\"Продолжительность сортировки методом choice : {}\".format(end_time-start_time))\n",
        "  return (data)\n",
        "\n",
        "print (\"Результат сортировки\",\"\\n\", choice_method(data))\n",
        "\n",
        "# метод по умолчанию (sort)\n",
        "def default_method(data):\n",
        "  start_time = datetime.now()\n",
        "  data.sort()\n",
        "  end_time = datetime.now()\n",
        "  print (\"Продолжительность сортировки методом sort: {}\".format(end_time-start_time))\n",
        "  return data\n",
        "\n",
        "print (\"Результат сортировки\",\"\\n\", default_method(data))\n",
        "\n",
        "# сортировка методом вставки\n",
        "def insertion(data):\n",
        "  start_time = datetime.now()\n",
        "  for i in range(len(data)):\n",
        "    j = i - 1\n",
        "    key = data[i]\n",
        "    while data[j] > key and j >= 0:\n",
        "      data[j + 1] = data[j]\n",
        "      j -= 1\n",
        "    data[j + 1] = key\n",
        "  end_time = datetime.now()\n",
        "  print (\"Продолжительность сортировки insertion: {}\".format(end_time-start_time))\n",
        "  return data\n",
        "\n",
        "print (\"Результат сортировки\",\"\\n\", insertion(data))\n",
        "\n",
        "# bubble_for(data)\n",
        "# bubble_while(data)\n",
        "# choice_method(data)\n",
        "# default_method(data)\n",
        "# insertion(data)\n"
      ],
      "metadata": {
        "colab": {
          "base_uri": "https://localhost:8080/"
        },
        "id": "mgJcjqwiquPU",
        "outputId": "ccbcf588-a5b6-476c-a2c3-c78218d8bd89"
      },
      "execution_count": 70,
      "outputs": [
        {
          "output_type": "stream",
          "name": "stdout",
          "text": [
            "Исходная последовательность\n",
            "[20, 75, 51, 47, 89, 14, 32, 35, 85, 31]\n",
            "Продолжительность сортировки циклом for : 0:00:00.000015\n",
            "Результат сортировки \n",
            " [14, 20, 31, 32, 35, 47, 51, 75, 85, 89]\n",
            "Продолжительность сортировки циклом while : 0:00:00.000011\n",
            "Результат сортировки \n",
            " [14, 20, 31, 32, 35, 47, 51, 75, 85, 89]\n",
            "Продолжительность сортировки методом choice : 0:00:00.000014\n",
            "Результат сортировки \n",
            " [14, 20, 31, 32, 35, 47, 51, 75, 85, 89]\n",
            "Продолжительность сортировки методом sort: 0:00:00.000003\n",
            "Результат сортировки \n",
            " [14, 20, 31, 32, 35, 47, 51, 75, 85, 89]\n",
            "Продолжительность сортировки insertion: 0:00:00.000005\n",
            "Результат сортировки \n",
            " [14, 20, 31, 32, 35, 47, 51, 75, 85, 89]\n"
          ]
        }
      ]
    },
    {
      "cell_type": "code",
      "source": [
        "# Вторая часть\n",
        "# Задача 1 (презентация 3)\n",
        "\n",
        "salary = float(input(\"Введи ЗП:\"))\n",
        "expenses = float(input(\"Введи расход:\"))\n",
        "month = [1,2,3,4,5,6,7,8,9,10,11,12]\n",
        "exptemp = expenses\n",
        "if salary >= expenses:\n",
        "  print (\"Входные данные не верны\")\n",
        "else:\n",
        "  for i in month:\n",
        "    print (\"Сейчас месяц:\", i)\n",
        "    if i != 1:\n",
        "      all_salary = salary * i\n",
        "      print (\"ЗП:\", all_salary)\n",
        "      expenses = expenses * 1.1\n",
        "      exptemp = exptemp + expenses\n",
        "      print (\"Расходы:\", exptemp)\n",
        "    else:\n",
        "      print (\"1 месяц без %\")\n",
        "      print (\"ЗП:\", salary)\n",
        "      print (\"Расходы:\", expenses)\n",
        "\n",
        "live = abs(all_salary - exptemp)\n",
        "\n",
        "print (\"Сотрудник будет должен:\", round(live,2), \"рублей\")\n",
        "\n",
        "\n"
      ],
      "metadata": {
        "colab": {
          "base_uri": "https://localhost:8080/"
        },
        "id": "KcfZckVxyxqc",
        "outputId": "9bd9522a-8c18-40f3-fe65-22570c7368f7"
      },
      "execution_count": 71,
      "outputs": [
        {
          "output_type": "stream",
          "name": "stdout",
          "text": [
            "Введи ЗП:100\n",
            "Введи расход:102\n",
            "Сейчас месяц: 1\n",
            "1 месяц без %\n",
            "ЗП: 100.0\n",
            "Расходы: 102.0\n",
            "Сейчас месяц: 2\n",
            "ЗП: 200.0\n",
            "Расходы: 214.2\n",
            "Сейчас месяц: 3\n",
            "ЗП: 300.0\n",
            "Расходы: 337.62\n",
            "Сейчас месяц: 4\n",
            "ЗП: 400.0\n",
            "Расходы: 473.38200000000006\n",
            "Сейчас месяц: 5\n",
            "ЗП: 500.0\n",
            "Расходы: 622.7202000000001\n",
            "Сейчас месяц: 6\n",
            "ЗП: 600.0\n",
            "Расходы: 786.9922200000002\n",
            "Сейчас месяц: 7\n",
            "ЗП: 700.0\n",
            "Расходы: 967.6914420000003\n",
            "Сейчас месяц: 8\n",
            "ЗП: 800.0\n",
            "Расходы: 1166.4605862000003\n",
            "Сейчас месяц: 9\n",
            "ЗП: 900.0\n",
            "Расходы: 1385.1066448200004\n",
            "Сейчас месяц: 10\n",
            "ЗП: 1000.0\n",
            "Расходы: 1625.6173093020006\n",
            "Сейчас месяц: 11\n",
            "ЗП: 1100.0\n",
            "Расходы: 1890.1790402322008\n",
            "Сейчас месяц: 12\n",
            "ЗП: 1200.0\n",
            "Расходы: 2181.196944255421\n",
            "Сотрудник будет должен: 981.2 рублей\n"
          ]
        }
      ]
    },
    {
      "cell_type": "code",
      "source": [
        "# # Бинарный поиск\n",
        "def create_list():\n",
        "  n = 10\n",
        "  arr = []\n",
        "  for i in range (n):\n",
        "    arr.append(randint(1,99))\n",
        "  return arr\n",
        "\n",
        "def binary_search(arr,x):\n",
        "  low = 0\n",
        "  high = len(arr) - 1\n",
        "  index = -1\n",
        "  while (low <= high) and (index == -1):\n",
        "    mid = (low + high) // 2\n",
        "    if arr[mid] == x:\n",
        "      index = mid\n",
        "    else:\n",
        "      if x < arr[mid]:\n",
        "        high = mid - 1\n",
        "      else:\n",
        "        low = mid + 1\n",
        "  return index\n",
        "\n",
        "data = create_list()\n",
        "data.sort()\n",
        "print (data)\n",
        "value = int(input(\"Введи число: \"))\n",
        "\n",
        "result = binary_search(data,value)\n",
        "\n",
        "if result != -1:\n",
        "  print (\"Идеск искомого элемента\", result)\n",
        "else:\n",
        "  print (\"Элемента нет в массиве\")"
      ],
      "metadata": {
        "colab": {
          "base_uri": "https://localhost:8080/"
        },
        "id": "y1XByfiQ26tn",
        "outputId": "e0c34820-f9cb-4229-f0e2-58b3a0967c95"
      },
      "execution_count": 72,
      "outputs": [
        {
          "output_type": "stream",
          "name": "stdout",
          "text": [
            "[3, 7, 12, 21, 24, 32, 34, 54, 63, 68]\n",
            "Введи число: 21\n",
            "Идеск искомого элемента 3\n"
          ]
        }
      ]
    },
    {
      "cell_type": "code",
      "source": [
        "# Бинарный поиск через рекурсию\n",
        "def create_list():\n",
        "  n = 10\n",
        "  arr = []\n",
        "  for i in range (n):\n",
        "    arr.append(randint(1,99))\n",
        "  return arr\n",
        "\n",
        "def binary_recursive(arr,low,high,x):\n",
        "  if high >= low:\n",
        "    mid = (high+low)//2 # Определяем середину\n",
        "    if arr[mid] == x:   # Если элемент в середине\n",
        "      return mid\n",
        "    elif arr[mid] > x: # Если элемент в левой части массива\n",
        "      return binary_recursive(arr,low, mid - 1,x)\n",
        "    else:\n",
        "      return binary_recursive(arr,mid + 1, high,x) # Если элемент в правой части массива\n",
        "  else:\n",
        "    return -1   # Если элемент не в массиве\n",
        "\n",
        "\n",
        "data = create_list()\n",
        "data.sort()\n",
        "print (data)\n",
        "value = int(input(\"Введи число: \"))\n",
        "\n",
        "result = binary_recursive(data,0,len(data)-1,value)\n",
        "\n",
        "\n",
        "if result != -1:\n",
        "  print (\"Идеск искомого элемента\", str(result))\n",
        "else:\n",
        "  print (\"Элемента нет в массиве\")"
      ],
      "metadata": {
        "colab": {
          "base_uri": "https://localhost:8080/"
        },
        "id": "INFhGREcq026",
        "outputId": "490c136a-1204-42bb-9d93-96d556a20f4f"
      },
      "execution_count": 74,
      "outputs": [
        {
          "output_type": "stream",
          "name": "stdout",
          "text": [
            "[26, 29, 35, 41, 48, 70, 78, 87, 93, 96]\n",
            "Введи число: 70\n",
            "Идеск искомого элемента 5\n"
          ]
        }
      ]
    }
  ]
}